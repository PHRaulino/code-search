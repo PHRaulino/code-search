{
  "nbformat": 4,
  "nbformat_minor": 0,
  "metadata": {
    "colab": {
      "provenance": [],
      "authorship_tag": "ABX9TyMvC8XRu4YwKICpE6zlh2a2",
      "include_colab_link": true
    },
    "kernelspec": {
      "name": "python3",
      "display_name": "Python 3"
    },
    "language_info": {
      "name": "python"
    }
  },
  "cells": [
    {
      "cell_type": "markdown",
      "metadata": {
        "id": "view-in-github",
        "colab_type": "text"
      },
      "source": [
        "<a href=\"https://colab.research.google.com/github/PHRaulino/code-search/blob/main/Untitled1.ipynb\" target=\"_parent\"><img src=\"https://colab.research.google.com/assets/colab-badge.svg\" alt=\"Open In Colab\"/></a>"
      ]
    },
    {
      "cell_type": "code",
      "execution_count": null,
      "metadata": {
        "id": "EE9gYSpQG8ui"
      },
      "outputs": [],
      "source": [
        "har_file_path = 'testeshar.har'\n",
        "with open(har_file_path, 'r') as har_file:\n",
        "    har_data = json.load(har_file)\n",
        "\n",
        "# Create a HarParser instance using the loaded HAR data\n",
        "from haralyzer import HarParser\n",
        "har_parser = HarParser(har_data)\n",
        "\n",
        "# Now you can proceed to analyze the parsed HAR data\n",
        "entries = har_parser.har_data['entries']\n",
        "# calls = []\n",
        "# for entry in entries:\n",
        "#     request = entry['request']\n",
        "#     url = request['url']\n",
        "#     if api_url in url:\n",
        "#       calls.append({\"request\": entry['request'], \"response\": entry['response']})\n",
        "#       print(url)\n",
        "\n",
        "\n",
        "\n",
        "\n",
        "  # Criar um esboço básico da especificação OpenAPI\n",
        "openapi_spec = {\n",
        "    \"servers\": [\n",
        "        {\n",
        "            \"url\": host_name\n",
        "        }\n",
        "    ],\n",
        "    \"tags\": [\n",
        "        {\n",
        "            \"name\": \"Padrões\"\n",
        "        }\n",
        "    ],\n",
        "    \"openapi\": \"3.0.0\",\n",
        "    \"info\": {\n",
        "        \"title\": \"API Documentation\",\n",
        "        \"version\": \"1.0\",\n",
        "        \"description\": \"testes\",\n",
        "        \"contact\": {}\n",
        "    },\n",
        "    \"paths\": {}\n",
        "}\n",
        "\n",
        "# Extrair informações do arquivo HAR e adicionar aos endpoints do OpenAPI\n",
        "for entry in entries:\n",
        "    request = entry['request']\n",
        "    method = request['method']\n",
        "    url = request['url']\n",
        "    if api_url in url:\n",
        "\n",
        "\n",
        "      # Extrair parâmetros (apenas um exemplo, personalize conforme necessário)\n",
        "      params = {}\n",
        "      for param in request['queryString']:\n",
        "          params[param['name']] = {\n",
        "              \"type\": \"string\",\n",
        "              \"description\": param.get('description', \"\")\n",
        "          }\n",
        "\n",
        "      # Adicionar ao esboço OpenAPI\n",
        "      if url not in openapi_spec['paths']:\n",
        "          url_key = url.replace(api_url, '').split('?')[0]\n",
        "          openapi_spec['paths'][url_key] = {}\n",
        "      openapi_spec['paths'][url_key][method.lower()] = {\n",
        "          \"summary\": f\"Endpoint {url_key}\",\n",
        "          \"operationId\": url_key,\n",
        "          \"tags\": [\"Padrões\"],\n",
        "          \"description\": f\"Endpoint {method} {url}\",\n",
        "          \"parameters\": [{\"description\": f\"value of {k}\",\"schema\": {\"title\": k, \"type\": v[\"type\"]},\"name\": k, \"in\": \"query\"} for k, v in params.items()],\n",
        "          \"responses\": {\n",
        "              \"200\": {\n",
        "                  \"description\": \"Successful response\"\n",
        "              }\n",
        "          }\n",
        "      }\n",
        "\n",
        "# # Salvar o esboço OpenAPI em um arquivo JSON\n",
        "output_file_path = 'openapi.json'\n",
        "with open(output_file_path, 'w') as output_file:\n",
        "    json.dump(openapi_spec, output_file, indent=2)"
      ]
    }
  ]
}